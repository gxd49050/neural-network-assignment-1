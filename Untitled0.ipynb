{
  "nbformat": 4,
  "nbformat_minor": 0,
  "metadata": {
    "colab": {
      "provenance": []
    },
    "kernelspec": {
      "name": "python3",
      "display_name": "Python 3"
    },
    "language_info": {
      "name": "python"
    }
  },
  "cells": [
    {
      "cell_type": "code",
      "source": [
        "a=int(input())\n",
        "b=int(input())\n",
        "\n",
        "print(a,b)\n",
        "print(a*b)\n",
        "print(a+b)\n",
        "print(a-b)\n",
        "print(a%b)"
      ],
      "metadata": {
        "colab": {
          "base_uri": "https://localhost:8080/"
        },
        "id": "-DtfqGOsfl7n",
        "outputId": "49188dd6-1af2-4e19-b885-e684931b8a53"
      },
      "execution_count": null,
      "outputs": [
        {
          "output_type": "stream",
          "name": "stdout",
          "text": [
            "9\n",
            "8\n",
            "9 8\n",
            "72\n",
            "17\n",
            "1\n",
            "1\n"
          ]
        }
      ]
    },
    {
      "cell_type": "code",
      "execution_count": null,
      "metadata": {
        "colab": {
          "base_uri": "https://localhost:8080/"
        },
        "id": "V0tlZoa9eCJp",
        "outputId": "b8447cf2-0267-4be7-b344-78497333ae6c"
      },
      "outputs": [
        {
          "output_type": "stream",
          "name": "stdout",
          "text": [
            "python\n",
            "htyp\n"
          ]
        }
      ],
      "source": [
        "s=input()\n",
        "l=list(s)\n",
        "l.remove('o');\n",
        "l.remove('n');\n",
        "l=l[::-1]\n",
        "a=''\n",
        "for i in l:\n",
        "  \n",
        "    a=a+i\n",
        "print(a)"
      ]
    },
    {
      "cell_type": "code",
      "source": [
        "str=input()\n",
        "x=str.replace(\"python\",\"pythons\")\n",
        "print(x)\n"
      ],
      "metadata": {
        "colab": {
          "base_uri": "https://localhost:8080/"
        },
        "id": "YLlZA99_giSD",
        "outputId": "f8802295-bab1-42da-9502-335740cc99f7"
      },
      "execution_count": null,
      "outputs": [
        {
          "output_type": "stream",
          "name": "stdout",
          "text": [
            "python\n",
            "pythons\n"
          ]
        }
      ]
    },
    {
      "cell_type": "code",
      "source": [
        "x=int(input(\"enter a value between 1 and 100: \"))\n",
        "if(x>90):\n",
        "    print(\"your grade is A\")\n",
        "elif(x<=90 and x>80):\n",
        "    print(\"your grade is B\")\n",
        "elif(x<=80 and x>70):\n",
        "    print(\"your grade is C\")\n",
        "elif(x<=70 and x>60):\n",
        "    print(\"your grade is D\")\n",
        "else:\n",
        "    print(\"your grade is F\")"
      ],
      "metadata": {
        "colab": {
          "base_uri": "https://localhost:8080/"
        },
        "id": "5YiwEVowgA9e",
        "outputId": "52c04368-f85f-4dbd-b246-c484e993cbd1"
      },
      "execution_count": null,
      "outputs": [
        {
          "output_type": "stream",
          "name": "stdout",
          "text": [
            "enter a value between 1 and 100: 89\n",
            "your grade is B\n"
          ]
        }
      ]
    }
  ]
}